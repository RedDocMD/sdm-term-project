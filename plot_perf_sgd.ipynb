{
 "cells": [
  {
   "cell_type": "code",
   "execution_count": 1,
   "id": "8ebbd254-3c21-4e2b-b3a8-2b1410e882a3",
   "metadata": {},
   "outputs": [],
   "source": [
    "import matplotlib.pyplot as plt\n",
    "import numpy as np"
   ]
  },
  {
   "cell_type": "code",
   "execution_count": 2,
   "id": "99d39080-9f9c-47ad-a390-e3f45a198399",
   "metadata": {},
   "outputs": [],
   "source": [
    "class Time:\n",
    "    def __init__(self, minute, second):\n",
    "        self.minute = minute\n",
    "        self.second = second\n",
    "        \n",
    "    def to_minute(self):\n",
    "        return self.minute + self.second / 60.0"
   ]
  },
  {
   "cell_type": "code",
   "execution_count": 3,
   "id": "d8741fd0-22af-4006-96c0-f9c9e38bb50a",
   "metadata": {},
   "outputs": [],
   "source": [
    "juliaTimes = [\n",
    "    Time(2, 23),\n",
    "    Time(2, 34),\n",
    "    Time(4, 10),\n",
    "    Time(4, 59),\n",
    "    Time(4, 48),\n",
    "]\n",
    "juliaTimeMins = list(map(Time.to_minute, juliaTimes))\n",
    "\n",
    "pythonTimes = [\n",
    "    Time(18, 2),\n",
    "    Time(18, 58),\n",
    "    Time(32, 15),\n",
    "    Time(34, 22),\n",
    "    Time(37, 27),\n",
    "]\n",
    "pythonTimeMins = list(map(Time.to_minute, pythonTimes))"
   ]
  },
  {
   "cell_type": "code",
   "execution_count": 4,
   "id": "5357bc42-51b4-437b-9894-cc056d60a6c6",
   "metadata": {},
   "outputs": [
    {
     "name": "stdout",
     "output_type": "stream",
     "text": [
      "7.48x speedup\n"
     ]
    }
   ],
   "source": [
    "avgSpeedup = np.mean(np.array(pythonTimeMins) / np.array(juliaTimeMins))\n",
    "print('{:.2f}x speedup'.format(avgSpeedup))"
   ]
  },
  {
   "cell_type": "code",
   "execution_count": 14,
   "id": "2ed80342-a38b-4982-9980-32e3ed46c1b1",
   "metadata": {},
   "outputs": [
    {
     "data": {
      "image/png": "[encoded data removed]",
      "text/plain": [
       "<Figure size 432x288 with 1 Axes>"
      ]
     },
     "metadata": {
      "needs_background": "light"
     },
     "output_type": "display_data"
    }
   ],
   "source": [
    "labels = ['G1', 'G2', 'G3', 'G4', 'G5']\n",
    "x = np.arange(len(labels))\n",
    "width = 0.35\n",
    "\n",
    "fig, ax = plt.subplots()\n",
    "rects1 = ax.bar(x - width / 2, juliaTimeMins, width, label='Julia')\n",
    "rects2 = ax.bar(x + width / 2, pythonTimeMins, width, label='Python')\n",
    "\n",
    "ax.set_ylabel('Time (mins)')\n",
    "ax.set_title('Julia vs Python (SGD)')\n",
    "ax.set_xticks(x)\n",
    "ax.set_xticklabels(labels)\n",
    "ax.legend()\n",
    "\n",
    "ax.bar_label(rects1, padding=3, fmt='%.2f')\n",
    "ax.bar_label(rects2, padding=3, fmt='%.2f')\n",
    "\n",
    "fig.tight_layout()"
   ]
  },
  {
   "cell_type": "code",
   "execution_count": 16,
   "id": "e22596f2-95d7-4219-8cb1-df0a4e154911",
   "metadata": {},
   "outputs": [
    {
     "name": "stderr",
     "output_type": "stream",
     "text": [
      "The PostScript backend does not support transparency; partially transparent artists will be rendered opaque.\n",
      "The PostScript backend does not support transparency; partially transparent artists will be rendered opaque.\n"
     ]
    }
   ],
   "source": [
    "fig.savefig('plots/perf_sgd.eps')"
   ]
  }
 ],
 "metadata": {
  "kernelspec": {
   "display_name": "Python 3",
   "language": "python",
   "name": "python3"
  },
  "language_info": {
   "codemirror_mode": {
    "name": "ipython",
    "version": 3
   },
   "file_extension": ".py",
   "mimetype": "text/x-python",
   "name": "python",
   "nbconvert_exporter": "python",
   "pygments_lexer": "ipython3",
   "version": "3.8.8"
  }
 },
 "nbformat": 4,
 "nbformat_minor": 5
}
